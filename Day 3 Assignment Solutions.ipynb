{
 "cells": [
  {
   "cell_type": "code",
   "execution_count": 2,
   "metadata": {},
   "outputs": [
    {
     "name": "stdout",
     "output_type": "stream",
     "text": [
      "[ 2  5  8 11 14 17 20 23 26 29 32 35 38 41 44 47]\n"
     ]
    }
   ],
   "source": [
    "#Answer 1:\n",
    "\n",
    "#import numpy with alias name\n",
    "import numpy as np\n",
    "\n",
    "#create array using np.arange\n",
    "arr = np.arange(2,50,3)\n",
    "\n",
    "#print numpy array\n",
    "print(arr)"
   ]
  },
  {
   "cell_type": "code",
   "execution_count": 7,
   "metadata": {},
   "outputs": [
    {
     "name": "stdout",
     "output_type": "stream",
     "text": [
      "\n",
      "Enter elements in list 1 :20\n",
      "\n",
      "Enter elements in list 1 :4\n",
      "\n",
      "Enter elements in list 1 :8\n",
      "\n",
      "Enter elements in list 1 :1\n",
      "\n",
      "Enter elements in list 1 :9\n",
      "\n",
      "Elements in list 1: [20, 4, 8, 1, 9]\n",
      "\n",
      "Enter elements in list 2 :34\n",
      "\n",
      "Enter elements in list 2 :9\n",
      "\n",
      "Enter elements in list 2 :3\n",
      "\n",
      "Enter elements in list 2 :7\n",
      "\n",
      "Enter elements in list 2 :6\n",
      "\n",
      "Elements in list 2 : [34, 9, 3, 7, 6]\n",
      "After concatenation of arrays : [20  4  8  1  9 34  9  3  7  6]\n",
      "After sorting of arrays : [ 1  3  4  6  7  8  9  9 20 34]\n"
     ]
    }
   ],
   "source": [
    "# Answer 2:\n",
    "\n",
    "import numpy as np\n",
    "\n",
    "#two empty lists\n",
    "list1 = []\n",
    "list2 = []\n",
    "\n",
    "#getting list1 elements from users\n",
    "for i in range(5):\n",
    "    l1 = int(input(\"\\nEnter elements in list 1 :\"))\n",
    "    list1.append(l1)\n",
    "print(\"\\nElements in list 1:\",list1)\n",
    "\n",
    "#getting list 2 elememts from user\n",
    "for i in range(5):\n",
    "    l2 = int(input(\"\\nEnter elements in list 2 :\"))\n",
    "    list2.append(l2)\n",
    "print(\"\\nElements in list 2 :\",list2)\n",
    "    \n",
    "#conversion of list into numpy arrays\n",
    "arr1 = np.array(list1)\n",
    "arr2 = np.array(list2)\n",
    "\n",
    "#concatenation of numpy arrays and printing\n",
    "arr = np.concatenate((arr1,arr2))\n",
    "print(\"After concatenation of arrays :\",arr)\n",
    "\n",
    "#sorting of numpy arrays\n",
    "arrsort = np.sort(arr)\n",
    "print(\"After sorting of arrays :\",arrsort)"
   ]
  },
  {
   "cell_type": "code",
   "execution_count": 13,
   "metadata": {},
   "outputs": [
    {
     "name": "stdout",
     "output_type": "stream",
     "text": [
      "[[ 1  2  3]\n",
      " [ 4  5  6]\n",
      " [ 7  8 90]]\n",
      "The dimension of the given array is : 2\n",
      "The size of the given array is : 9\n"
     ]
    }
   ],
   "source": [
    "#Answer 3:\n",
    "\n",
    "import numpy as np\n",
    "\n",
    "#create a numpy array\n",
    "arr = np.array([[1,2,3],[4,5,6],[7,8,90]])\n",
    "print(arr)\n",
    "\n",
    "#print dimensions of the numpy array using (arayname.ndim)\n",
    "print(\"The dimension of the given array is :\",arr.ndim)\n",
    "\n",
    "#print size of numpy array using (arrayname.size)\n",
    "print(\"The size of the given array is :\",arr.size)"
   ]
  },
  {
   "cell_type": "code",
   "execution_count": 15,
   "metadata": {},
   "outputs": [
    {
     "name": "stdout",
     "output_type": "stream",
     "text": [
      "[[0 1 2 3 4]\n",
      " [5 6 7 8 9]]\n",
      "array in row : (1, 10)\n",
      "array in column : (10, 1)\n",
      "\n",
      "Shape of Array : (10,)\n",
      "\n",
      "Shape of 2d Array in row : (1, 10)\n",
      "\n",
      "Shape of 2d Array in column : (10, 1)\n"
     ]
    }
   ],
   "source": [
    "#Answer 4:\n",
    "\n",
    "import numpy as np\n",
    "\n",
    "#conversion of 1d array to 2d array\n",
    "arr = np.array([0, 1, 2, 3, 4, 5, 6, 7, 8, 9])\n",
    "arr_2d = np. reshape(arr, (2, 5))\n",
    "print(arr_2d)\n",
    "\n",
    "                                #conversion of arrays using np.newaxis\n",
    "\n",
    "\n",
    "#np.newaxis is used to increase dimensions of existing array by one more dimension, when used once. \n",
    "\n",
    "#make it as row vector by inserting an axis along first dimension\n",
    "arr_row = arr[np.newaxis,:]\n",
    "print(\"array in row :\",arr_row.shape)\n",
    "\n",
    "#make it as column vector by inserting an axis along second dimension\n",
    "arr_col = arr[:,np.newaxis]\n",
    "print(\"array in column :\",arr_col.shape)\n",
    "\n",
    "\n",
    "                                 #conversion of arrays using expand_dims\n",
    "    \n",
    "\n",
    "# creating a 1d array\n",
    "arr = np.arange(10)\n",
    "print(\"\\nShape of Array :\",arr.shape)\n",
    "\n",
    "# converting using newaxis in row wise\n",
    "row_arr = np.expand_dims(arr, axis=0)\n",
    "print(\"\\nShape of 2d Array in row :\",row_arr.shape)\n",
    "\n",
    "# converting using newaxis in column wise\n",
    "col_arr = np.expand_dims(arr, axis=1)\n",
    "print(\"\\nShape of 2d Array in column :\",col_arr.shape)"
   ]
  },
  {
   "cell_type": "code",
   "execution_count": 17,
   "metadata": {},
   "outputs": [
    {
     "name": "stdout",
     "output_type": "stream",
     "text": [
      "\n",
      "Horizontal stack : [  1   4   9  16  25  36  49  64  81 100]\n",
      "\n",
      "Vertical stack : [[  1   4   9  16  25]\n",
      " [ 36  49  64  81 100]]\n"
     ]
    }
   ],
   "source": [
    "#Answer 5:\n",
    "\n",
    "import numpy as np\n",
    "\n",
    "# creating a array with square values\n",
    "arr_1 = np.square([1, 2, 3, 4, 5])\n",
    "arr_2 = np.square([6, 7, 8, 9, 10])\n",
    "\n",
    "# stacking and printing the value\n",
    "print(\"\\nHorizontal stack :\", np.hstack((arr_1, arr_2)))\n",
    "print(\"\\nVertical stack :\", np.vstack((arr_1, arr_2)))"
   ]
  },
  {
   "cell_type": "code",
   "execution_count": 20,
   "metadata": {},
   "outputs": [
    {
     "name": "stdout",
     "output_type": "stream",
     "text": [
      "Original Numpy Array :  [11 11 12 13 14 15 16 17 12 13 11 14 18]\n",
      "Unique Values :  [11 12 13 14 15 16 17 18]\n",
      "Occurrence Count :  [3 2 2 2 1 1 1 1]\n"
     ]
    }
   ],
   "source": [
    "#Answer 6\n",
    "\n",
    "#create numpy arrray\n",
    "arr = np.array([11, 11, 12, 13, 14, 15, 16, 17, 12, 13, 11, 14, 18])\n",
    "print('Original Numpy Array : ' , arr)\n",
    "\n",
    "# Get a tuple of unique values & their frequency in numpy array\n",
    "uniqueValues, occurCount = np.unique(arr, return_counts=True)\n",
    "print(\"Unique Values : \" , uniqueValues)\n",
    "print(\"Occurrence Count : \", occurCount)"
   ]
  }
 ],
 "metadata": {
  "kernelspec": {
   "display_name": "Python 3",
   "language": "python",
   "name": "python3"
  },
  "language_info": {
   "codemirror_mode": {
    "name": "ipython",
    "version": 3
   },
   "file_extension": ".py",
   "mimetype": "text/x-python",
   "name": "python",
   "nbconvert_exporter": "python",
   "pygments_lexer": "ipython3",
   "version": "3.8.3"
  }
 },
 "nbformat": 4,
 "nbformat_minor": 4
}
