{
 "cells": [
  {
   "cell_type": "code",
   "execution_count": 84,
   "metadata": {},
   "outputs": [
    {
     "name": "stdout",
     "output_type": "stream",
     "text": [
      "enter number :1\n",
      "enter number :2\n",
      "enter number :3\n",
      "enter number :4\n",
      "enter number :5\n",
      "enter number :6\n",
      "enter number :7\n",
      "enter number :8\n",
      "enter number :9\n",
      "enter number :10\n",
      "even list of numbes : [2, 4, 6, 8, 10]\n"
     ]
    }
   ],
   "source": [
    "# Answer 1:\n",
    "\n",
    "#create a empty list\n",
    "l = []     \n",
    "\n",
    " #for loop\n",
    "for i in range(10):                 \n",
    "    x = int(input(\"enter number :\")) #enter 10 numbers\n",
    "    if(x%2==0):                      \n",
    "        l.append(x)                  #if numbers are even,append to the list l\n",
    "print(\"even list of numbes :\",l)     #print even number list"
   ]
  },
  {
   "cell_type": "code",
   "execution_count": 120,
   "metadata": {},
   "outputs": [
    {
     "name": "stdout",
     "output_type": "stream",
     "text": [
      "['j', 'a', 's', 'k', 'a', 'r', 'a', 'n']\n",
      "['p', 'a', 'l', 'w', 'i', 'n', 'd', 'e', 'r']\n",
      "[4, 6, 8]\n",
      "[1, 2, 3, 4, 5]\n",
      "[1, 2, 3, 4, 5, 6]\n",
      "[1, 2, 3, 4, 5, 8, 6]\n",
      "[1, 2, 3, 4, 5, 6]\n",
      "[1, 5, 3, 4, 6, 9, 8, 7, 1, 2, 3, 4, 5, 6]\n",
      "['j', 'a', 's', 'k', 'a', 'r', 'a', 'n', 'deep Singh']\n"
     ]
    }
   ],
   "source": [
    "#Answer 2:\n",
    "\n",
    "#list comprehension\n",
    "name = []\n",
    "for i in 'jaskaran':\n",
    "    name.append(i)\n",
    "print(name)\n",
    "\n",
    "#iterating through string using list comrehension\n",
    "\n",
    "name1 = [i for i in 'palwinder']\n",
    "print(name1)\n",
    "\n",
    "l = [1,5,3,4,6,9,8,7]\n",
    "num1 = [n for n in l if(n%2==0)]\n",
    "print(num1)\n",
    "\n",
    "#insert number at the end of the list\n",
    "list1 = [1,2,3,4,5]\n",
    "print(list1)\n",
    "\n",
    "list1.append(6)\n",
    "print(list1)\n",
    "\n",
    "#insert number at desired position in list\n",
    "list1.insert(5,8)\n",
    "print(list1)\n",
    "\n",
    "#remove a number from the list\n",
    "list1.remove(8)\n",
    "print(list1)\n",
    "\n",
    "#extend a list\n",
    "l.extend(list1)\n",
    "print(l)\n",
    "\n",
    "#append at the end\n",
    "name.append(\"deep Singh\")\n",
    "print(name)"
   ]
  },
  {
   "cell_type": "code",
   "execution_count": 121,
   "metadata": {},
   "outputs": [
    {
     "name": "stdout",
     "output_type": "stream",
     "text": [
      "8\n",
      "{1: 1, 2: 4, 3: 9, 4: 16, 5: 25, 6: 36, 7: 49, 8: 64}\n"
     ]
    }
   ],
   "source": [
    "#Answer 3:\n",
    "\n",
    "#create empty dictionary d\n",
    "d={}\n",
    "\n",
    "#input a number from user\n",
    "n=int(input())\n",
    "\n",
    "for i in range(1,n+1):\n",
    "    d[i] = i*i\n",
    "print(d)"
   ]
  },
  {
   "cell_type": "code",
   "execution_count": 130,
   "metadata": {},
   "outputs": [
    {
     "name": "stdout",
     "output_type": "stream",
     "text": [
      "4\n",
      "UP 5\n",
      "DOWN 3\n",
      "LEFT 3\n",
      "RIGHT 2\n",
      "2\n"
     ]
    }
   ],
   "source": [
    "#Answer 4:\n",
    "\n",
    "\n",
    "#declaring orgin\n",
    "x,y=0,0 \n",
    "\n",
    "#Getting number of movements from user\n",
    "n=int(input(\"\"))\n",
    "\n",
    "for i in range(n):\n",
    "    moves=input()\n",
    "    moves=moves.split(\" \")\n",
    "    #Movements in the directions    \n",
    "    if moves[0]=='UP':\n",
    "        y+=int(moves[1])\n",
    "    elif moves[0]=='DOWN':\n",
    "        y-=int(moves[1])\n",
    "    elif moves[0]=='LEFT':\n",
    "        x-=int(moves[1])\n",
    "    elif moves[0]=='RIGHT':\n",
    "        x+=int(moves[1])\n",
    "        \n",
    "#Calculate distance from origin\n",
    "result=math.sqrt(x**2+y**2)\n",
    "print(round(result))"
   ]
  }
 ],
 "metadata": {
  "kernelspec": {
   "display_name": "Python 3",
   "language": "python",
   "name": "python3"
  },
  "language_info": {
   "codemirror_mode": {
    "name": "ipython",
    "version": 3
   },
   "file_extension": ".py",
   "mimetype": "text/x-python",
   "name": "python",
   "nbconvert_exporter": "python",
   "pygments_lexer": "ipython3",
   "version": "3.8.3"
  }
 },
 "nbformat": 4,
 "nbformat_minor": 4
}
