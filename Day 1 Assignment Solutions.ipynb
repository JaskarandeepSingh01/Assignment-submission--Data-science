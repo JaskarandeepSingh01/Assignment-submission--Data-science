{
 "cells": [
  {
   "cell_type": "markdown",
   "metadata": {},
   "source": [
    "# Day 1 Assignment"
   ]
  },
  {
   "cell_type": "code",
   "execution_count": null,
   "metadata": {},
   "outputs": [],
   "source": [
    "# Answer 1:\n",
    "\n",
    "# (B)RAINBOW"
   ]
  },
  {
   "cell_type": "code",
   "execution_count": 27,
   "metadata": {},
   "outputs": [
    {
     "name": "stdout",
     "output_type": "stream",
     "text": [
      "LETS UPGRADE\n"
     ]
    }
   ],
   "source": [
    "# Answer 2:\n",
    "\n",
    "print(\"LETS UPGRADE\")"
   ]
  },
  {
   "cell_type": "code",
   "execution_count": 31,
   "metadata": {},
   "outputs": [
    {
     "name": "stdout",
     "output_type": "stream",
     "text": [
      "Enter cost price :4\n",
      "Enter selling price :4\n",
      "neither\n"
     ]
    }
   ],
   "source": [
    "# Answer 3:\n",
    "\n",
    "cp=int(input(\"Enter cost price :\"))     # cp = cost price\n",
    "sp=int(input(\"Enter selling price :\"))  # sp = selling price\n",
    "if cp>sp:\n",
    "    print(\"loss\")\n",
    "elif cp==sp:\n",
    "     print(\"neither\")\n",
    "else:\n",
    "      print(\"profit\")"
   ]
  },
  {
   "cell_type": "code",
   "execution_count": 35,
   "metadata": {},
   "outputs": [
    {
     "name": "stdout",
     "output_type": "stream",
     "text": [
      "19\n",
      "95\n",
      "profit\n"
     ]
    }
   ],
   "source": [
    "# Answer 4:\n",
    "\n",
    "cp=int(input())  # cp = cost price\n",
    "sp=int(input())  # sp = selling price\n",
    "if cp>sp:\n",
    "    print(\"loss\")\n",
    "elif cp==sp:\n",
    "     print(\"neither\")\n",
    "else:\n",
    "      print(\"profit\")"
   ]
  },
  {
   "cell_type": "code",
   "execution_count": 43,
   "metadata": {},
   "outputs": [
    {
     "name": "stdout",
     "output_type": "stream",
     "text": [
      "18\n",
      "1440\n"
     ]
    }
   ],
   "source": [
    "# Answer 5:\n",
    "\n",
    "x=int(input())\n",
    "x*=80\n",
    "print(x)"
   ]
  }
 ],
 "metadata": {
  "kernelspec": {
   "display_name": "Python 3",
   "language": "python",
   "name": "python3"
  },
  "language_info": {
   "codemirror_mode": {
    "name": "ipython",
    "version": 3
   },
   "file_extension": ".py",
   "mimetype": "text/x-python",
   "name": "python",
   "nbconvert_exporter": "python",
   "pygments_lexer": "ipython3",
   "version": "3.8.3"
  }
 },
 "nbformat": 4,
 "nbformat_minor": 4
}
